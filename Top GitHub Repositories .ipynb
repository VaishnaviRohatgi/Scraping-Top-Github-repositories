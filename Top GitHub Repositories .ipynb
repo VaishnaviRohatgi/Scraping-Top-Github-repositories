{
 "cells": [
  {
   "cell_type": "markdown",
   "id": "b44d410f",
   "metadata": {},
   "source": [
    "# Top Repositories in GitHub"
   ]
  },
  {
   "cell_type": "markdown",
   "id": "496d9f79",
   "metadata": {},
   "source": [
    "Here are the steps:\n",
    "\n",
    "- We're going to scrape https://github.com/topics\n",
    "- We'll get a list of topics. For each topic, we'll get topic title, topic page URL and topic description\n",
    "- For each topic, we'll get the top 25 repositories in the topic from the topic page\n",
    "- For each repository, we'll grab the repo name, username, stars and repo URL\n",
    "- For each topic we'll create a CSV file in the following format:\n",
    "\n",
    "```\n",
    "Repo Name,Username,Stars,Repo URL\n",
    "three.js,mrdoob,69700,https://github.com/mrdoob/three.js\n",
    "libgdx,libgdx,18300,https://github.com/libgdx/libgdx\n",
    "```"
   ]
  },
  {
   "cell_type": "code",
   "execution_count": 2,
   "id": "9ed54e77",
   "metadata": {},
   "outputs": [
    {
     "name": "stdout",
     "output_type": "stream",
     "text": [
      "Requirement already satisfied: requests in c:\\users\\dell\\anaconda3\\lib\\site-packages (2.26.0)\n",
      "Requirement already satisfied: idna<4,>=2.5 in c:\\users\\dell\\anaconda3\\lib\\site-packages (from requests) (2.10)\n",
      "Requirement already satisfied: urllib3<1.27,>=1.21.1 in c:\\users\\dell\\anaconda3\\lib\\site-packages (from requests) (1.26.4)\n",
      "Requirement already satisfied: certifi>=2017.4.17 in c:\\users\\dell\\anaconda3\\lib\\site-packages (from requests) (2020.12.5)\n",
      "Requirement already satisfied: charset-normalizer~=2.0.0 in c:\\users\\dell\\anaconda3\\lib\\site-packages (from requests) (2.0.8)\n",
      "Note: you may need to restart the kernel to use updated packages.\n"
     ]
    }
   ],
   "source": [
    "pip install requests"
   ]
  },
  {
   "cell_type": "code",
   "execution_count": 246,
   "id": "a807850d",
   "metadata": {},
   "outputs": [],
   "source": [
    "import requests\n",
    "from bs4 import BeautifulSoup\n",
    "import pandas as pd"
   ]
  },
  {
   "cell_type": "code",
   "execution_count": 282,
   "id": "71884f3b",
   "metadata": {},
   "outputs": [
    {
     "name": "stdout",
     "output_type": "stream",
     "text": [
      "https://github.com//topics?page=1\n",
      "https://github.com//topics?page=2\n",
      "https://github.com//topics?page=3\n",
      "https://github.com//topics?page=4\n",
      "https://github.com//topics?page=5\n",
      "https://github.com//topics?page=6\n"
     ]
    }
   ],
   "source": [
    "page = 1\n",
    "while page != 7:\n",
    "    pages_url = f\"https://github.com//topics?page={page}\"\n",
    "    doc=get_topics_page()\n",
    "    \n",
    "    page = page + 1"
   ]
  },
  {
   "cell_type": "code",
   "execution_count": null,
   "id": "8cd11167",
   "metadata": {},
   "outputs": [],
   "source": []
  },
  {
   "cell_type": "code",
   "execution_count": null,
   "id": "6cb1cc8f",
   "metadata": {},
   "outputs": [],
   "source": []
  },
  {
   "cell_type": "code",
   "execution_count": null,
   "id": "41d29405",
   "metadata": {},
   "outputs": [],
   "source": []
  },
  {
   "cell_type": "code",
   "execution_count": null,
   "id": "4a1c4f5b",
   "metadata": {},
   "outputs": [],
   "source": [
    "get_topic_titles(doc)\n",
    "get_topic_descs(doc)"
   ]
  },
  {
   "cell_type": "code",
   "execution_count": 260,
   "id": "11cf6065",
   "metadata": {},
   "outputs": [],
   "source": [
    "def get_topics_page():\n",
    "    topics_url = 'https://github.com/topics'\n",
    "    response = requests.get(topics_url)\n",
    "    if response.status_code != 200:\n",
    "        raise Exception('Failed to load page {}'.format(topic_url))\n",
    "    doc = BeautifulSoup(response.text, 'html.parser')\n",
    "    return doc"
   ]
  },
  {
   "cell_type": "code",
   "execution_count": 261,
   "id": "3e099b76",
   "metadata": {},
   "outputs": [],
   "source": [
    "doc = get_topics_page()"
   ]
  },
  {
   "cell_type": "code",
   "execution_count": 262,
   "id": "ea3597f5",
   "metadata": {},
   "outputs": [],
   "source": [
    "def get_topic_titles(doc):\n",
    "    selection_class = 'f3 lh-condensed mb-0 mt-1 Link--primary'\n",
    "    topic_title_tags = doc.find_all('p', {'class': selection_class})\n",
    "    topic_titles = []\n",
    "    for tag in topic_title_tags:\n",
    "        topic_titles.append(tag.text)\n",
    "    return topic_titles"
   ]
  },
  {
   "cell_type": "code",
   "execution_count": 263,
   "id": "e12c7a76",
   "metadata": {},
   "outputs": [],
   "source": [
    "titles = get_topic_titles(doc)"
   ]
  },
  {
   "cell_type": "code",
   "execution_count": 264,
   "id": "56050052",
   "metadata": {},
   "outputs": [
    {
     "data": {
      "text/plain": [
       "30"
      ]
     },
     "execution_count": 264,
     "metadata": {},
     "output_type": "execute_result"
    }
   ],
   "source": [
    "len(titles)"
   ]
  },
  {
   "cell_type": "code",
   "execution_count": 265,
   "id": "797640e8",
   "metadata": {},
   "outputs": [],
   "source": [
    "def get_topic_descs(doc):\n",
    "    \n",
    "    topic_desc_tags= doc.find_all('p', {'class':\"f5 color-fg-muted mb-0 mt-1\"})\n",
    "    topic_descs = []\n",
    "    for tag in topic_desc_tags:\n",
    "        topic_descs.append(tag.text.strip())\n",
    "    return topic_descs\n",
    "    \n"
   ]
  },
  {
   "cell_type": "code",
   "execution_count": 266,
   "id": "4941bc1f",
   "metadata": {},
   "outputs": [],
   "source": [
    "descs=get_topic_descs(doc)"
   ]
  },
  {
   "cell_type": "code",
   "execution_count": 267,
   "id": "5d02a91d",
   "metadata": {},
   "outputs": [
    {
     "data": {
      "text/plain": [
       "30"
      ]
     },
     "execution_count": 267,
     "metadata": {},
     "output_type": "execute_result"
    }
   ],
   "source": [
    "len(descs)"
   ]
  },
  {
   "cell_type": "code",
   "execution_count": 268,
   "id": "a419dc57",
   "metadata": {},
   "outputs": [
    {
     "data": {
      "text/plain": [
       "['3D modeling is the process of virtually developing the surface and structure of a 3D object.',\n",
       " 'Ajax is a technique for creating interactive web applications.',\n",
       " 'Algorithms are self-contained sequences that carry out a variety of tasks.',\n",
       " 'Amp is a non-blocking concurrency framework for PHP.',\n",
       " 'Android is an operating system built by Google designed for mobile devices.']"
      ]
     },
     "execution_count": 268,
     "metadata": {},
     "output_type": "execute_result"
    }
   ],
   "source": [
    "descs[:5]"
   ]
  },
  {
   "cell_type": "code",
   "execution_count": null,
   "id": "ead0c974",
   "metadata": {},
   "outputs": [],
   "source": []
  },
  {
   "cell_type": "code",
   "execution_count": 269,
   "id": "94c28480",
   "metadata": {},
   "outputs": [],
   "source": [
    "def get_topic_urls(doc):\n",
    "    topic_link_tags = doc.find_all('a', {'class': 'd-flex no-underline'})\n",
    "    topic_urls = []\n",
    "    base_url = 'https://github.com'\n",
    "    for tag in topic_link_tags:\n",
    "        topic_urls.append(base_url + tag['href'])\n",
    "    return topic_urls\n"
   ]
  },
  {
   "cell_type": "code",
   "execution_count": 270,
   "id": "1ebfb789",
   "metadata": {},
   "outputs": [],
   "source": [
    "urls=get_topic_urls(doc)"
   ]
  },
  {
   "cell_type": "code",
   "execution_count": 271,
   "id": "f4f6a9fe",
   "metadata": {},
   "outputs": [
    {
     "data": {
      "text/plain": [
       "30"
      ]
     },
     "execution_count": 271,
     "metadata": {},
     "output_type": "execute_result"
    }
   ],
   "source": [
    "len(urls)"
   ]
  },
  {
   "cell_type": "code",
   "execution_count": 272,
   "id": "0d3b6c7f",
   "metadata": {},
   "outputs": [
    {
     "data": {
      "text/plain": [
       "['https://github.com/topics/3d',\n",
       " 'https://github.com/topics/ajax',\n",
       " 'https://github.com/topics/algorithm',\n",
       " 'https://github.com/topics/amphp',\n",
       " 'https://github.com/topics/android']"
      ]
     },
     "execution_count": 272,
     "metadata": {},
     "output_type": "execute_result"
    }
   ],
   "source": [
    "urls[:5]"
   ]
  },
  {
   "cell_type": "code",
   "execution_count": null,
   "id": "e5a9284b",
   "metadata": {},
   "outputs": [],
   "source": []
  },
  {
   "cell_type": "code",
   "execution_count": 294,
   "id": "b629e773",
   "metadata": {},
   "outputs": [],
   "source": [
    "def scrape_topics():\n",
    "    page = 1\n",
    "    df_final=pd.DataFrame()\n",
    "    while page != 7:\n",
    "        pages_url = f\"https://github.com//topics?page={page}\"\n",
    "        page = page + 1\n",
    "    #topics_url = 'https://github.com/topics'\n",
    "        response = requests.get(pages_url)\n",
    "        if response.status_code != 200:\n",
    "            raise Exception('Failed to load page {}'.format(topic_url))\n",
    "        doc = BeautifulSoup(response.text, 'html.parser')\n",
    "        topics_dict = {\n",
    "            'title': get_topic_titles(doc),\n",
    "            'description': get_topic_descs(doc),\n",
    "            'url': get_topic_urls(doc)\n",
    "        }\n",
    "        df1=pd.DataFrame(topics_dict)\n",
    "        \n",
    "        df_final=pd.concat([df_final,df1])\n",
    "    return df_final"
   ]
  },
  {
   "cell_type": "code",
   "execution_count": 296,
   "id": "c6b7724b",
   "metadata": {},
   "outputs": [
    {
     "data": {
      "text/html": [
       "<div>\n",
       "<style scoped>\n",
       "    .dataframe tbody tr th:only-of-type {\n",
       "        vertical-align: middle;\n",
       "    }\n",
       "\n",
       "    .dataframe tbody tr th {\n",
       "        vertical-align: top;\n",
       "    }\n",
       "\n",
       "    .dataframe thead th {\n",
       "        text-align: right;\n",
       "    }\n",
       "</style>\n",
       "<table border=\"1\" class=\"dataframe\">\n",
       "  <thead>\n",
       "    <tr style=\"text-align: right;\">\n",
       "      <th></th>\n",
       "      <th>title</th>\n",
       "      <th>description</th>\n",
       "      <th>url</th>\n",
       "    </tr>\n",
       "  </thead>\n",
       "  <tbody>\n",
       "    <tr>\n",
       "      <th>25</th>\n",
       "      <td>Windows</td>\n",
       "      <td>Windows is Microsoft's GUI-based operating sys...</td>\n",
       "      <td>https://github.com/topics/windows</td>\n",
       "    </tr>\n",
       "    <tr>\n",
       "      <th>26</th>\n",
       "      <td>WordPlate</td>\n",
       "      <td>WordPlate is a modern WordPress stack which si...</td>\n",
       "      <td>https://github.com/topics/wordplate</td>\n",
       "    </tr>\n",
       "    <tr>\n",
       "      <th>27</th>\n",
       "      <td>WordPress</td>\n",
       "      <td>WordPress is a popular content management syst...</td>\n",
       "      <td>https://github.com/topics/wordpress</td>\n",
       "    </tr>\n",
       "    <tr>\n",
       "      <th>28</th>\n",
       "      <td>Xamarin</td>\n",
       "      <td>Xamarin is a platform for developing iOS and A...</td>\n",
       "      <td>https://github.com/topics/xamarin</td>\n",
       "    </tr>\n",
       "    <tr>\n",
       "      <th>29</th>\n",
       "      <td>XML</td>\n",
       "      <td>XML is subset of SGML (Standard Generalized Ma...</td>\n",
       "      <td>https://github.com/topics/xml</td>\n",
       "    </tr>\n",
       "  </tbody>\n",
       "</table>\n",
       "</div>"
      ],
      "text/plain": [
       "        title                                        description  \\\n",
       "25    Windows  Windows is Microsoft's GUI-based operating sys...   \n",
       "26  WordPlate  WordPlate is a modern WordPress stack which si...   \n",
       "27  WordPress  WordPress is a popular content management syst...   \n",
       "28    Xamarin  Xamarin is a platform for developing iOS and A...   \n",
       "29        XML  XML is subset of SGML (Standard Generalized Ma...   \n",
       "\n",
       "                                    url  \n",
       "25    https://github.com/topics/windows  \n",
       "26  https://github.com/topics/wordplate  \n",
       "27  https://github.com/topics/wordpress  \n",
       "28    https://github.com/topics/xamarin  \n",
       "29        https://github.com/topics/xml  "
      ]
     },
     "execution_count": 296,
     "metadata": {},
     "output_type": "execute_result"
    }
   ],
   "source": [
    "t_df=scrape_topics()\n",
    "t_df.tail()"
   ]
  },
  {
   "cell_type": "code",
   "execution_count": null,
   "id": "44456001",
   "metadata": {},
   "outputs": [],
   "source": []
  },
  {
   "cell_type": "code",
   "execution_count": 297,
   "id": "722c670c",
   "metadata": {},
   "outputs": [],
   "source": [
    "def parse_star_count(stars_str):\n",
    "    stars_str = stars_str.strip()\n",
    "    if stars_str[-1] == 'k':\n",
    "        return int(float(stars_str[:-1]) * 1000)\n",
    "    return int(stars_str)"
   ]
  },
  {
   "cell_type": "code",
   "execution_count": 298,
   "id": "5914a6d3",
   "metadata": {},
   "outputs": [],
   "source": [
    "#get topic page from topic url\n",
    "def get_topic_page(topic_url):\n",
    "    # Download the page\n",
    "    response = requests.get(topic_url)\n",
    "    # Check successful responsetopic_url\n",
    "    if response.status_code != 200:\n",
    "        raise Exception('Failed to load page {}'.format(topic_url))\n",
    "    # Parse using Beautiful soup\n",
    "    topic_doc = BeautifulSoup(response.text, 'html.parser')\n",
    "    return topic_doc"
   ]
  },
  {
   "cell_type": "code",
   "execution_count": 299,
   "id": "0006dda6",
   "metadata": {},
   "outputs": [],
   "source": [
    "#Get the information for each repository\n",
    "\n",
    "def get_repo_info(h1_tag, star_tag):\n",
    "    # returns all the required info about a repository\n",
    "    base_url = 'https://github.com'\n",
    "    a_tags = h1_tag.find_all('a')\n",
    "    username = a_tags[0].text.strip()\n",
    "    repo_name = a_tags[1].text.strip()\n",
    "    repo_url =  base_url + a_tags[1]['href']\n",
    "    stars = parse_star_count(star_tag.text.strip())\n",
    "    return username, repo_name, stars, repo_url\n",
    "    "
   ]
  },
  {
   "cell_type": "code",
   "execution_count": 300,
   "id": "88d61dcd",
   "metadata": {},
   "outputs": [],
   "source": [
    "def get_topic_repos(topic_doc):\n",
    "    # Get the h1 tags containing repo title, repo URL and username\n",
    "    #h1_selection_class = 'f3 color-text-secondary text-normal lh-condensed'\n",
    "    repo_tags = topic_doc.find_all('h3', {'class':\"f3 color-fg-muted text-normal lh-condensed\" })\n",
    "    len(repo_tags)\n",
    "    # Get star tags\n",
    "    star_tags = topic_doc.find_all('a', {'class': \"social-count js-social-count\"})\n",
    "    \n",
    "    topic_repos_dict = { 'username': [], 'repo_name': [], 'stars': [],'repo_url': []}\n",
    "\n",
    "    # Get repo info\n",
    "    for i in range(len(repo_tags)):\n",
    "        repo_info = get_repo_info(repo_tags[i], star_tags[i])\n",
    "        topic_repos_dict['username'].append(repo_info[0])\n",
    "        topic_repos_dict['repo_name'].append(repo_info[1])\n",
    "        topic_repos_dict['stars'].append(repo_info[2])\n",
    "        topic_repos_dict['repo_url'].append(repo_info[3])\n",
    "        \n",
    "    return pd.DataFrame(topic_repos_dict)"
   ]
  },
  {
   "cell_type": "code",
   "execution_count": null,
   "id": "a0fc2784",
   "metadata": {},
   "outputs": [],
   "source": []
  },
  {
   "cell_type": "code",
   "execution_count": 301,
   "id": "13710c7e",
   "metadata": {},
   "outputs": [],
   "source": [
    "import os\n",
    "def scrape_topic(top_url, path):\n",
    "    if os.path.exists(path):\n",
    "        print(\"The file {} already exists. Skipping...\".format(path))\n",
    "        return\n",
    "    topic_df = get_topic_repos(get_topic_page(top_url))\n",
    "    topic_df.to_csv(path, index=None)"
   ]
  },
  {
   "cell_type": "code",
   "execution_count": null,
   "id": "8bdae730",
   "metadata": {},
   "outputs": [],
   "source": []
  },
  {
   "cell_type": "code",
   "execution_count": 302,
   "id": "db9832ba",
   "metadata": {},
   "outputs": [],
   "source": [
    "def scrape_topics_repos():\n",
    "    print('Scraping list of topics')\n",
    "    topics_df = scrape_topics()\n",
    "    \n",
    "    os.makedirs('data', exist_ok=True)\n",
    "    for index, row in topics_df.iterrows():\n",
    "        print('Scraping top repositories for \"{}\"'.format(row['title']))\n",
    "        scrape_topic(row['url'], 'data/{}.csv'.format(row['title']))"
   ]
  },
  {
   "cell_type": "code",
   "execution_count": 316,
   "id": "5636535e",
   "metadata": {},
   "outputs": [
    {
     "name": "stdout",
     "output_type": "stream",
     "text": [
      "Scraping list of topics\n",
      "Scraping top repositories for \"3D\"\n",
      "The file data/3D.csv already exists. Skipping...\n",
      "Scraping top repositories for \"Ajax\"\n",
      "The file data/Ajax.csv already exists. Skipping...\n",
      "Scraping top repositories for \"Algorithm\"\n",
      "The file data/Algorithm.csv already exists. Skipping...\n",
      "Scraping top repositories for \"Amp\"\n",
      "The file data/Amp.csv already exists. Skipping...\n",
      "Scraping top repositories for \"Android\"\n",
      "The file data/Android.csv already exists. Skipping...\n",
      "Scraping top repositories for \"Angular\"\n",
      "The file data/Angular.csv already exists. Skipping...\n",
      "Scraping top repositories for \"Ansible\"\n",
      "The file data/Ansible.csv already exists. Skipping...\n",
      "Scraping top repositories for \"API\"\n",
      "The file data/API.csv already exists. Skipping...\n",
      "Scraping top repositories for \"Arduino\"\n",
      "The file data/Arduino.csv already exists. Skipping...\n",
      "Scraping top repositories for \"ASP.NET\"\n",
      "The file data/ASP.NET.csv already exists. Skipping...\n",
      "Scraping top repositories for \"Atom\"\n",
      "The file data/Atom.csv already exists. Skipping...\n",
      "Scraping top repositories for \"Awesome Lists\"\n",
      "The file data/Awesome Lists.csv already exists. Skipping...\n",
      "Scraping top repositories for \"Amazon Web Services\"\n",
      "The file data/Amazon Web Services.csv already exists. Skipping...\n",
      "Scraping top repositories for \"Azure\"\n",
      "The file data/Azure.csv already exists. Skipping...\n",
      "Scraping top repositories for \"Babel\"\n",
      "The file data/Babel.csv already exists. Skipping...\n",
      "Scraping top repositories for \"Bash\"\n",
      "The file data/Bash.csv already exists. Skipping...\n",
      "Scraping top repositories for \"Bitcoin\"\n",
      "The file data/Bitcoin.csv already exists. Skipping...\n",
      "Scraping top repositories for \"Bootstrap\"\n",
      "The file data/Bootstrap.csv already exists. Skipping...\n",
      "Scraping top repositories for \"Bot\"\n",
      "The file data/Bot.csv already exists. Skipping...\n",
      "Scraping top repositories for \"C\"\n",
      "The file data/C.csv already exists. Skipping...\n",
      "Scraping top repositories for \"Chrome\"\n",
      "The file data/Chrome.csv already exists. Skipping...\n",
      "Scraping top repositories for \"Chrome extension\"\n",
      "The file data/Chrome extension.csv already exists. Skipping...\n",
      "Scraping top repositories for \"Command line interface\"\n",
      "The file data/Command line interface.csv already exists. Skipping...\n",
      "Scraping top repositories for \"Clojure\"\n",
      "The file data/Clojure.csv already exists. Skipping...\n",
      "Scraping top repositories for \"Code quality\"\n",
      "The file data/Code quality.csv already exists. Skipping...\n",
      "Scraping top repositories for \"Code review\"\n",
      "The file data/Code review.csv already exists. Skipping...\n",
      "Scraping top repositories for \"Compiler\"\n",
      "The file data/Compiler.csv already exists. Skipping...\n",
      "Scraping top repositories for \"Continuous integration\"\n",
      "The file data/Continuous integration.csv already exists. Skipping...\n",
      "Scraping top repositories for \"COVID-19\"\n",
      "The file data/COVID-19.csv already exists. Skipping...\n",
      "Scraping top repositories for \"C++\"\n",
      "The file data/C++.csv already exists. Skipping...\n",
      "Scraping top repositories for \"Cryptocurrency\"\n",
      "The file data/Cryptocurrency.csv already exists. Skipping...\n",
      "Scraping top repositories for \"Crystal\"\n",
      "The file data/Crystal.csv already exists. Skipping...\n",
      "Scraping top repositories for \"C#\"\n",
      "The file data/C#.csv already exists. Skipping...\n",
      "Scraping top repositories for \"CSS\"\n",
      "The file data/CSS.csv already exists. Skipping...\n",
      "Scraping top repositories for \"Data structures\"\n",
      "The file data/Data structures.csv already exists. Skipping...\n",
      "Scraping top repositories for \"Data visualization\"\n",
      "The file data/Data visualization.csv already exists. Skipping...\n",
      "Scraping top repositories for \"Database\"\n",
      "The file data/Database.csv already exists. Skipping...\n",
      "Scraping top repositories for \"Deep learning\"\n",
      "The file data/Deep learning.csv already exists. Skipping...\n",
      "Scraping top repositories for \"Dependency management\"\n",
      "The file data/Dependency management.csv already exists. Skipping...\n",
      "Scraping top repositories for \"Deployment\"\n",
      "The file data/Deployment.csv already exists. Skipping...\n",
      "Scraping top repositories for \"Django\"\n",
      "The file data/Django.csv already exists. Skipping...\n",
      "Scraping top repositories for \"Docker\"\n",
      "The file data/Docker.csv already exists. Skipping...\n",
      "Scraping top repositories for \"Documentation\"\n",
      "The file data/Documentation.csv already exists. Skipping...\n",
      "Scraping top repositories for \".NET\"\n",
      "The file data/.NET.csv already exists. Skipping...\n",
      "Scraping top repositories for \"Electron\"\n",
      "The file data/Electron.csv already exists. Skipping...\n",
      "Scraping top repositories for \"Elixir\"\n",
      "The file data/Elixir.csv already exists. Skipping...\n",
      "Scraping top repositories for \"Emacs\"\n",
      "The file data/Emacs.csv already exists. Skipping...\n",
      "Scraping top repositories for \"Ember\"\n",
      "The file data/Ember.csv already exists. Skipping...\n",
      "Scraping top repositories for \"Emoji\"\n",
      "The file data/Emoji.csv already exists. Skipping...\n",
      "Scraping top repositories for \"Emulator\"\n",
      "The file data/Emulator.csv already exists. Skipping...\n",
      "Scraping top repositories for \"ESLint\"\n",
      "The file data/ESLint.csv already exists. Skipping...\n",
      "Scraping top repositories for \"Ethereum\"\n",
      "The file data/Ethereum.csv already exists. Skipping...\n",
      "Scraping top repositories for \"Express\"\n",
      "The file data/Express.csv already exists. Skipping...\n",
      "Scraping top repositories for \"Firebase\"\n",
      "The file data/Firebase.csv already exists. Skipping...\n",
      "Scraping top repositories for \"Firefox\"\n",
      "The file data/Firefox.csv already exists. Skipping...\n",
      "Scraping top repositories for \"Flask\"\n",
      "The file data/Flask.csv already exists. Skipping...\n",
      "Scraping top repositories for \"Font\"\n",
      "The file data/Font.csv already exists. Skipping...\n",
      "Scraping top repositories for \"Framework\"\n",
      "The file data/Framework.csv already exists. Skipping...\n",
      "Scraping top repositories for \"Front end\"\n",
      "The file data/Front end.csv already exists. Skipping...\n",
      "Scraping top repositories for \"Game engine\"\n",
      "The file data/Game engine.csv already exists. Skipping...\n",
      "Scraping top repositories for \"Git\"\n",
      "The file data/Git.csv already exists. Skipping...\n",
      "Scraping top repositories for \"GitHub API\"\n",
      "The file data/GitHub API.csv already exists. Skipping...\n",
      "Scraping top repositories for \"Go\"\n",
      "The file data/Go.csv already exists. Skipping...\n",
      "Scraping top repositories for \"Google\"\n",
      "The file data/Google.csv already exists. Skipping...\n",
      "Scraping top repositories for \"Gradle\"\n",
      "The file data/Gradle.csv already exists. Skipping...\n",
      "Scraping top repositories for \"GraphQL\"\n",
      "The file data/GraphQL.csv already exists. Skipping...\n",
      "Scraping top repositories for \"Gulp\"\n",
      "The file data/Gulp.csv already exists. Skipping...\n",
      "Scraping top repositories for \"Hacktoberfest\"\n",
      "The file data/Hacktoberfest.csv already exists. Skipping...\n",
      "Scraping top repositories for \"Haskell\"\n",
      "The file data/Haskell.csv already exists. Skipping...\n",
      "Scraping top repositories for \"Homebrew\"\n",
      "The file data/Homebrew.csv already exists. Skipping...\n",
      "Scraping top repositories for \"Homebridge\"\n",
      "The file data/Homebridge.csv already exists. Skipping...\n",
      "Scraping top repositories for \"HTML\"\n",
      "The file data/HTML.csv already exists. Skipping...\n",
      "Scraping top repositories for \"HTTP\"\n",
      "The file data/HTTP.csv already exists. Skipping...\n",
      "Scraping top repositories for \"Icon font\"\n",
      "The file data/Icon font.csv already exists. Skipping...\n",
      "Scraping top repositories for \"iOS\"\n",
      "The file data/iOS.csv already exists. Skipping...\n",
      "Scraping top repositories for \"IPFS\"\n",
      "The file data/IPFS.csv already exists. Skipping...\n",
      "Scraping top repositories for \"Java\"\n",
      "The file data/Java.csv already exists. Skipping...\n",
      "Scraping top repositories for \"JavaScript\"\n",
      "The file data/JavaScript.csv already exists. Skipping...\n",
      "Scraping top repositories for \"Jekyll\"\n",
      "The file data/Jekyll.csv already exists. Skipping...\n",
      "Scraping top repositories for \"jQuery\"\n",
      "The file data/jQuery.csv already exists. Skipping...\n",
      "Scraping top repositories for \"JSON\"\n",
      "The file data/JSON.csv already exists. Skipping...\n",
      "Scraping top repositories for \"The Julia Language\"\n",
      "The file data/The Julia Language.csv already exists. Skipping...\n",
      "Scraping top repositories for \"Jupyter Notebook\"\n",
      "The file data/Jupyter Notebook.csv already exists. Skipping...\n",
      "Scraping top repositories for \"Koa\"\n",
      "The file data/Koa.csv already exists. Skipping...\n",
      "Scraping top repositories for \"Kotlin\"\n",
      "The file data/Kotlin.csv already exists. Skipping...\n",
      "Scraping top repositories for \"Kubernetes\"\n",
      "The file data/Kubernetes.csv already exists. Skipping...\n",
      "Scraping top repositories for \"Laravel\"\n",
      "The file data/Laravel.csv already exists. Skipping...\n",
      "Scraping top repositories for \"LaTeX\"\n",
      "The file data/LaTeX.csv already exists. Skipping...\n",
      "Scraping top repositories for \"Library\"\n",
      "The file data/Library.csv already exists. Skipping...\n",
      "Scraping top repositories for \"Linux\"\n",
      "The file data/Linux.csv already exists. Skipping...\n",
      "Scraping top repositories for \"Localization\"\n",
      "The file data/Localization.csv already exists. Skipping...\n",
      "Scraping top repositories for \"Lua\"\n",
      "The file data/Lua.csv already exists. Skipping...\n",
      "Scraping top repositories for \"Machine learning\"\n",
      "The file data/Machine learning.csv already exists. Skipping...\n",
      "Scraping top repositories for \"macOS\"\n",
      "The file data/macOS.csv already exists. Skipping...\n",
      "Scraping top repositories for \"Markdown\"\n",
      "The file data/Markdown.csv already exists. Skipping...\n",
      "Scraping top repositories for \"Mastodon\"\n",
      "The file data/Mastodon.csv already exists. Skipping...\n",
      "Scraping top repositories for \"Material design\"\n",
      "The file data/Material design.csv already exists. Skipping...\n",
      "Scraping top repositories for \"MATLAB\"\n",
      "The file data/MATLAB.csv already exists. Skipping...\n",
      "Scraping top repositories for \"Maven\"\n",
      "The file data/Maven.csv already exists. Skipping...\n",
      "Scraping top repositories for \"Minecraft\"\n",
      "The file data/Minecraft.csv already exists. Skipping...\n",
      "Scraping top repositories for \"Mobile\"\n",
      "The file data/Mobile.csv already exists. Skipping...\n",
      "Scraping top repositories for \"Monero\"\n",
      "The file data/Monero.csv already exists. Skipping...\n",
      "Scraping top repositories for \"MongoDB\"\n",
      "The file data/MongoDB.csv already exists. Skipping...\n",
      "Scraping top repositories for \"Mongoose\"\n",
      "The file data/Mongoose.csv already exists. Skipping...\n",
      "Scraping top repositories for \"Monitoring\"\n",
      "The file data/Monitoring.csv already exists. Skipping...\n",
      "Scraping top repositories for \"MvvmCross\"\n",
      "The file data/MvvmCross.csv already exists. Skipping...\n",
      "Scraping top repositories for \"MySQL\"\n",
      "The file data/MySQL.csv already exists. Skipping...\n",
      "Scraping top repositories for \"NativeScript\"\n",
      "The file data/NativeScript.csv already exists. Skipping...\n",
      "Scraping top repositories for \"Nim\"\n",
      "The file data/Nim.csv already exists. Skipping...\n",
      "Scraping top repositories for \"Natural language processing\"\n",
      "The file data/Natural language processing.csv already exists. Skipping...\n",
      "Scraping top repositories for \"Node.js\"\n",
      "The file data/Node.js.csv already exists. Skipping...\n",
      "Scraping top repositories for \"NoSQL\"\n",
      "The file data/NoSQL.csv already exists. Skipping...\n",
      "Scraping top repositories for \"npm\"\n",
      "The file data/npm.csv already exists. Skipping...\n",
      "Scraping top repositories for \"Objective-C\"\n",
      "The file data/Objective-C.csv already exists. Skipping...\n",
      "Scraping top repositories for \"OpenGL\"\n",
      "The file data/OpenGL.csv already exists. Skipping...\n",
      "Scraping top repositories for \"Operating system\"\n",
      "The file data/Operating system.csv already exists. Skipping...\n",
      "Scraping top repositories for \"P2P\"\n",
      "The file data/P2P.csv already exists. Skipping...\n",
      "Scraping top repositories for \"Package manager\"\n",
      "The file data/Package manager.csv already exists. Skipping...\n",
      "Scraping top repositories for \"Parsing\"\n",
      "The file data/Parsing.csv already exists. Skipping...\n",
      "Scraping top repositories for \"Perl\"\n",
      "The file data/Perl.csv already exists. Skipping...\n",
      "Scraping top repositories for \"Phaser\"\n",
      "The file data/Phaser.csv already exists. Skipping...\n",
      "Scraping top repositories for \"PHP\"\n",
      "The file data/PHP.csv already exists. Skipping...\n",
      "Scraping top repositories for \"PICO-8\"\n",
      "The file data/PICO-8.csv already exists. Skipping...\n",
      "Scraping top repositories for \"Pixel Art\"\n",
      "The file data/Pixel Art.csv already exists. Skipping...\n",
      "Scraping top repositories for \"PostgreSQL\"\n",
      "The file data/PostgreSQL.csv already exists. Skipping...\n",
      "Scraping top repositories for \"Project management\"\n",
      "The file data/Project management.csv already exists. Skipping...\n",
      "Scraping top repositories for \"Publishing\"\n",
      "The file data/Publishing.csv already exists. Skipping...\n",
      "Scraping top repositories for \"PWA\"\n",
      "The file data/PWA.csv already exists. Skipping...\n",
      "Scraping top repositories for \"Python\"\n",
      "The file data/Python.csv already exists. Skipping...\n",
      "Scraping top repositories for \"Qt\"\n",
      "The file data/Qt.csv already exists. Skipping...\n",
      "Scraping top repositories for \"R\"\n",
      "The file data/R.csv already exists. Skipping...\n",
      "Scraping top repositories for \"Rails\"\n",
      "The file data/Rails.csv already exists. Skipping...\n",
      "Scraping top repositories for \"Raspberry Pi\"\n",
      "The file data/Raspberry Pi.csv already exists. Skipping...\n",
      "Scraping top repositories for \"Ratchet\"\n",
      "The file data/Ratchet.csv already exists. Skipping...\n",
      "Scraping top repositories for \"React\"\n",
      "The file data/React.csv already exists. Skipping...\n",
      "Scraping top repositories for \"React Native\"\n",
      "The file data/React Native.csv already exists. Skipping...\n",
      "Scraping top repositories for \"ReactiveUI\"\n",
      "The file data/ReactiveUI.csv already exists. Skipping...\n",
      "Scraping top repositories for \"Redux\"\n",
      "The file data/Redux.csv already exists. Skipping...\n",
      "Scraping top repositories for \"REST API\"\n",
      "The file data/REST API.csv already exists. Skipping...\n",
      "Scraping top repositories for \"Ruby\"\n",
      "The file data/Ruby.csv already exists. Skipping...\n",
      "Scraping top repositories for \"Rust\"\n",
      "The file data/Rust.csv already exists. Skipping...\n",
      "Scraping top repositories for \"Sass\"\n",
      "The file data/Sass.csv already exists. Skipping...\n",
      "Scraping top repositories for \"Scala\"\n",
      "The file data/Scala.csv already exists. Skipping...\n",
      "Scraping top repositories for \"scikit-learn\"\n",
      "The file data/scikit-learn.csv already exists. Skipping...\n",
      "Scraping top repositories for \"Software-defined networking\"\n",
      "The file data/Software-defined networking.csv already exists. Skipping...\n",
      "Scraping top repositories for \"Security\"\n",
      "The file data/Security.csv already exists. Skipping...\n",
      "Scraping top repositories for \"Server\"\n",
      "The file data/Server.csv already exists. Skipping...\n",
      "Scraping top repositories for \"Serverless\"\n",
      "The file data/Serverless.csv already exists. Skipping...\n",
      "Scraping top repositories for \"Shell\"\n",
      "The file data/Shell.csv already exists. Skipping...\n",
      "Scraping top repositories for \"Sketch\"\n",
      "The file data/Sketch.csv already exists. Skipping...\n",
      "Scraping top repositories for \"SpaceVim\"\n",
      "The file data/SpaceVim.csv already exists. Skipping...\n",
      "Scraping top repositories for \"Spring Boot\"\n",
      "The file data/Spring Boot.csv already exists. Skipping...\n",
      "Scraping top repositories for \"SQL\"\n",
      "The file data/SQL.csv already exists. Skipping...\n",
      "Scraping top repositories for \"Storybook\"\n",
      "The file data/Storybook.csv already exists. Skipping...\n",
      "Scraping top repositories for \"Support\"\n",
      "The file data/Support.csv already exists. Skipping...\n",
      "Scraping top repositories for \"Swift\"\n",
      "The file data/Swift.csv already exists. Skipping...\n",
      "Scraping top repositories for \"Symfony\"\n",
      "The file data/Symfony.csv already exists. Skipping...\n",
      "Scraping top repositories for \"Telegram\"\n",
      "The file data/Telegram.csv already exists. Skipping...\n",
      "Scraping top repositories for \"Tensorflow\"\n",
      "The file data/Tensorflow.csv already exists. Skipping...\n",
      "Scraping top repositories for \"Terminal\"\n",
      "The file data/Terminal.csv already exists. Skipping...\n",
      "Scraping top repositories for \"Terraform\"\n",
      "The file data/Terraform.csv already exists. Skipping...\n",
      "Scraping top repositories for \"Testing\"\n",
      "The file data/Testing.csv already exists. Skipping...\n",
      "Scraping top repositories for \"Twitter\"\n",
      "The file data/Twitter.csv already exists. Skipping...\n",
      "Scraping top repositories for \"TypeScript\"\n",
      "The file data/TypeScript.csv already exists. Skipping...\n",
      "Scraping top repositories for \"Ubuntu\"\n",
      "The file data/Ubuntu.csv already exists. Skipping...\n",
      "Scraping top repositories for \"Unity\"\n",
      "The file data/Unity.csv already exists. Skipping...\n",
      "Scraping top repositories for \"Unreal Engine\"\n",
      "The file data/Unreal Engine.csv already exists. Skipping...\n",
      "Scraping top repositories for \"Vagrant\"\n"
     ]
    },
    {
     "name": "stdout",
     "output_type": "stream",
     "text": [
      "Scraping top repositories for \"Vim\"\n",
      "Scraping top repositories for \"Virtual reality\"\n",
      "Scraping top repositories for \"Vue.js\"\n",
      "Scraping top repositories for \"Wagtail\"\n",
      "Scraping top repositories for \"Web Components\"\n",
      "Scraping top repositories for \"Web app\"\n",
      "Scraping top repositories for \"Webpack\"\n",
      "Scraping top repositories for \"Windows\"\n",
      "Scraping top repositories for \"WordPlate\"\n",
      "Scraping top repositories for \"WordPress\"\n",
      "Scraping top repositories for \"Xamarin\"\n",
      "Scraping top repositories for \"XML\"\n"
     ]
    }
   ],
   "source": [
    "scrape_topics_repos()"
   ]
  },
  {
   "cell_type": "code",
   "execution_count": null,
   "id": "dbafaedd",
   "metadata": {},
   "outputs": [],
   "source": []
  },
  {
   "cell_type": "code",
   "execution_count": null,
   "id": "50184a00",
   "metadata": {},
   "outputs": [],
   "source": []
  },
  {
   "cell_type": "code",
   "execution_count": null,
   "id": "cb3c3b0e",
   "metadata": {},
   "outputs": [],
   "source": []
  }
 ],
 "metadata": {
  "kernelspec": {
   "display_name": "Python 3",
   "language": "python",
   "name": "python3"
  },
  "language_info": {
   "codemirror_mode": {
    "name": "ipython",
    "version": 3
   },
   "file_extension": ".py",
   "mimetype": "text/x-python",
   "name": "python",
   "nbconvert_exporter": "python",
   "pygments_lexer": "ipython3",
   "version": "3.8.8"
  }
 },
 "nbformat": 4,
 "nbformat_minor": 5
}
